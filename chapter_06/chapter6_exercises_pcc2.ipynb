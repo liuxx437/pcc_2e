{
 "cells": [
  {
   "cell_type": "code",
   "execution_count": 8,
   "metadata": {},
   "outputs": [
    {
     "name": "stdout",
     "output_type": "stream",
     "text": [
      "Jack London is 40 years old and lives in Paris.\n"
     ]
    }
   ],
   "source": [
    "# Problem 6-1\n",
    "person = {'first_name': 'Jack', 'last_name': 'London', 'age':'40', 'city':'Paris' }\n",
    "print(f\"{person['first_name']} {person['last_name']} is {person['age']} years old and lives in {person['city']}.\")"
   ]
  },
  {
   "cell_type": "code",
   "execution_count": null,
   "metadata": {},
   "outputs": [],
   "source": [
    "# Problem 6-2\n",
    "person = {'Jack':'5', 'Emily': '6', 'Me':'19', 'Sophia':'7', 'Yan':'20'}\n",
    "print(f\"Jack: {person.get('Jack')} \\n\")\n",
    "print(f\"Emily: {person.get('Emily')} \\n\")\n",
    "print(f\"Me: {person.get('Me')} \\n\")\n",
    "print(f\"Sophia: {person.get('Sophia')} \\n\")\n",
    "print(f\"Yan: {person.get('Yan')} \\n\")"
   ]
  },
  {
   "cell_type": "code",
   "execution_count": null,
   "metadata": {},
   "outputs": [],
   "source": [
    "# Problem 6-3\n",
    "person = {'int':'Interger data type', \n",
    "        'for': 'Key work used in looping', \n",
    "        'list':'a data type used to store a series of items', \n",
    "        'string':'a data type used to store a sequence of characters', \n",
    "        'print':'function to print out information'}\n",
    "print(f\"int: {person.get('int')} \")\n",
    "print(f\"for: {person.get('for')} \")\n",
    "print(f\"list: {person.get('list')}\")\n",
    "print(f\"string: {person.get('string')}\")\n",
    "print(f\"print: {person.get('print')}\")"
   ]
  },
  {
   "cell_type": "code",
   "execution_count": null,
   "metadata": {},
   "outputs": [],
   "source": [
    "# Problem 6-4\n",
    "person = {'int':'Interger data type', \n",
    "        'for': 'Key work used in looping', \n",
    "        'list':'a data type used to store a series of items', \n",
    "        'string':'a data type used to store a sequence of characters', \n",
    "        'print':'function to print out information',\n",
    "        'set': 'bunch of items without order',\n",
    "        'key': 'used in dictionary as index',\n",
    "        'value': 'value of a key in a dictionary',\n",
    "        'function': 'a block does something',\n",
    "        'class': 'a data type to define objects'}\n",
    "for word, meaning in person.items():\n",
    "    print(f\"{word}: {meaning}\")\n"
   ]
  },
  {
   "cell_type": "code",
   "execution_count": 18,
   "metadata": {},
   "outputs": [
    {
     "name": "stdout",
     "output_type": "stream",
     "text": [
      "Nile runs throught Egypt\n",
      "Yellow runs throught China\n",
      "Mississippi runs throught USA\n",
      "Nile\n",
      "Yellow\n",
      "Mississippi\n",
      "Egypt\n",
      "China\n",
      "USA\n"
     ]
    }
   ],
   "source": [
    "# Problem 6-5\n",
    "rivers = {'Nile':'Egypt', \n",
    "        'Yellow': 'China', \n",
    "        'Mississippi':'USA'}\n",
    "\n",
    "for river, country in rivers.items():\n",
    "    print(f\"{river} runs throught {country}\")\n",
    "\n",
    "for river in rivers:\n",
    "    print(f\"{river}\")\n",
    "\n",
    "for country in rivers.values():\n",
    "    print(f\"{country}\")"
   ]
  },
  {
   "cell_type": "code",
   "execution_count": 21,
   "metadata": {},
   "outputs": [
    {
     "name": "stdout",
     "output_type": "stream",
     "text": [
      "Jen\n",
      "Sarah\n",
      "\tSarah, I see you love C!\n",
      "Edward\n",
      "Phil\n",
      "\tPhil, I see you love Python!\n",
      "thank you phil!\n",
      "thank you sarah!\n",
      "thank you jen!\n",
      "take the poll ASAP josh!\n",
      "take the poll ASAP ben!\n",
      "take the poll ASAP kate!\n"
     ]
    }
   ],
   "source": [
    "# problem 6-6\n",
    "\n",
    "favorite_languages = {\n",
    "    'jen': 'python',\n",
    "    'sarah': 'c',\n",
    "    'edward': 'ruby',\n",
    "    'phil': 'python',\n",
    "    }\n",
    "\n",
    "friends = ['phil', 'sarah']\n",
    "for name in favorite_languages.keys():\n",
    "    print(name.title())\n",
    "    \n",
    "    if name in friends:\n",
    "        language = favorite_languages[name].title()\n",
    "        print(f\"\\t{name.title()}, I see you love {language}!\")\n",
    "\n",
    "audience = ['phil', 'sarah', 'jen', 'josh', 'ben', 'kate']\n",
    "for people in audience:\n",
    "    if people in set(favorite_languages):\n",
    "        print (f\"thank you {people}!\")\n",
    "    else:\n",
    "        print (f\"take the poll ASAP {people}!\")\n",
    "    \n",
    "    \n"
   ]
  },
  {
   "cell_type": "code",
   "execution_count": 23,
   "metadata": {},
   "outputs": [
    {
     "name": "stdout",
     "output_type": "stream",
     "text": [
      "Jack London is 40 years old and lives in Paris.\n",
      "Emily Liu is 9 years old and lives in Frisco.\n",
      "Sarah Smith is 38 years old and lives in Dallas.\n"
     ]
    }
   ],
   "source": [
    "# Problem 6-7\n",
    "person1 = {'first_name': 'Jack', 'last_name': 'London', 'age':'40', 'city':'Paris' }\n",
    "person2 = {'first_name': 'Emily', 'last_name': 'Liu', 'age':'9', 'city':'Frisco' }\n",
    "person3 = {'first_name': 'Sarah', 'last_name': 'Smith', 'age':'38', 'city':'Dallas' }\n",
    "people = [person1, person2, person3]\n",
    "\n",
    "for person in people:\n",
    "    print(f\"{person['first_name']} {person['last_name']} is {person['age']} years old and lives in {person['city']}.\")"
   ]
  },
  {
   "cell_type": "code",
   "execution_count": 24,
   "metadata": {},
   "outputs": [
    {
     "name": "stdout",
     "output_type": "stream",
     "text": [
      "Dog owned by London\n",
      "Cat owned by Aria\n",
      "Lizard owned by Brooklyn\n",
      "Snake owned by Tina\n"
     ]
    }
   ],
   "source": [
    "# Problem 6-8\n",
    "pet1 = {'type': 'Dog', 'owner_name': 'London'}\n",
    "pet2 = {'type': 'Cat', 'owner_name': 'Aria'}\n",
    "pet3 = {'type': 'Lizard', 'owner_name': 'Brooklyn'}\n",
    "pet4 = {'type': 'Snake', 'owner_name': 'Tina'}\n",
    "pets = [pet1, pet2, pet3, pet4]\n",
    "\n",
    "for pet in pets:\n",
    "    print(f\"{pet['type']} owned by {pet['owner_name']}\")"
   ]
  },
  {
   "cell_type": "code",
   "execution_count": 50,
   "metadata": {},
   "outputs": [
    {
     "name": "stdout",
     "output_type": "stream",
     "text": [
      "Jack loves London,Paris,Beijing\n",
      "Katie loves Dallas\n",
      "Allen loves Shanghai,New York City\n"
     ]
    }
   ],
   "source": [
    "# Problem 6-9\n",
    "person1 = {'name': 'Jack', 'places': ['London', 'Paris', 'Beijing'] }\n",
    "person2 = {'name': 'Katie', 'places': ['Dallas'] }\n",
    "person3 = {'name': 'Allen', 'places': ['Shanghai', 'New York City'] }\n",
    "favorite_places = [person1, person2, person3]\n",
    "\n",
    "for each in favorite_places:\n",
    "    places = each['places']\n",
    "    print(f\"{each['name']} loves {','.join(places)}\")    \n",
    "        "
   ]
  },
  {
   "cell_type": "code",
   "execution_count": 67,
   "metadata": {},
   "outputs": [
    {
     "name": "stdout",
     "output_type": "stream",
     "text": [
      "Jack's favorite numbers: 5, 7, 40\n",
      "Emily's favorite numbers: 6, 8\n",
      "Me's favorite numbers: 19\n",
      "Sophia's favorite numbers: 7, 56, 700, 1\n",
      "Yan's favorite numbers: 23, 34\n"
     ]
    }
   ],
   "source": [
    "# Problem 6-10\n",
    "persons = {'Jack':[5, 7, 40], 'Emily': [6, 8], 'Me':[19], 'Sophia':[7, 56, 700, 1], 'Yan':[23, 34]}\n",
    "for person, numbers in persons.items():\n",
    "    print(f\"{person}'s favorite numbers: {str(numbers)[1:-1]}\")"
   ]
  },
  {
   "cell_type": "code",
   "execution_count": 70,
   "metadata": {},
   "outputs": [
    {
     "name": "stdout",
     "output_type": "stream",
     "text": [
      "Dallas:\n",
      "\tcountry: USA\n",
      "\tpopulation: 600000\n",
      "\tfact: where Kennedy was assasinated\n",
      "Paris:\n",
      "\tcountry: France\n",
      "\tpopulation: 1500000\n",
      "\tfact: has a lot of awesome restaurants\n",
      "Beijing:\n",
      "\tcountry: China\n",
      "\tpopulation: 2600000\n",
      "\tfact: where 2008 Olympic games were hosted\n"
     ]
    }
   ],
   "source": [
    "# Problem 6-11\n",
    "cities = {'Dallas': {'country':'USA', 'population':600_000, 'fact':'where Kennedy was assasinated'},\n",
    "         'Paris': {'country':'France', 'population':1_500_000, 'fact':'has a lot of awesome restaurants'},\n",
    "         'Beijing': {'country':'China', 'population':2_600_000, 'fact':'where 2008 Olympic games were hosted'}\n",
    "         }\n",
    "\n",
    "for name, info in cities.items():\n",
    "    print(f\"{name}:\")    \n",
    "    for category, value in info.items():\n",
    "        print(f\"\\t{category}: {value}\")\n",
    "        "
   ]
  },
  {
   "cell_type": "code",
   "execution_count": 71,
   "metadata": {},
   "outputs": [
    {
     "name": "stdout",
     "output_type": "stream",
     "text": [
      "Dallas:\n",
      "\tcountry: USA\n",
      "\tpopulation: 600000\n",
      "\tfact: where Kennedy was assasinated\n",
      "Paris:\n",
      "\tcountry: France\n",
      "\tpopulation: 1500000\n",
      "\tfact: has a lot of awesome restaurants\n",
      "Beijing:\n",
      "\tcountry: China\n",
      "\tpopulation: 2600000\n",
      "\tfact: where 2008 Olympic games were hosted\n",
      "London:\n",
      "\tcountry: England\n",
      "\tpopulation: 1500000\n",
      "\tfact: Home to big Ben\n",
      "Berlin:\n",
      "\tcountry: Germany\n",
      "\tpopulation: 1000000\n",
      "\tfact: There was a wall\n",
      "Shanghai:\n",
      "\tcountry: China\n",
      "\tpopulation: 2400000\n",
      "\tfact: East meets West\n"
     ]
    }
   ],
   "source": [
    "# Problem 6-12\n",
    "cities = {'Dallas': {'country':'USA', 'population':600_000, 'fact':'where Kennedy was assasinated'},\n",
    "         'Paris': {'country':'France', 'population':1_500_000, 'fact':'has a lot of awesome restaurants'},\n",
    "         'Beijing': {'country':'China', 'population':2_600_000, 'fact':'where 2008 Olympic games were hosted'},\n",
    "         'London': {'country':'England', 'population':1_500_000, 'fact':'Home to big Ben'},\n",
    "         'Berlin': {'country':'Germany', 'population':1_000_000, 'fact':'There was a wall'},\n",
    "         'Shanghai': {'country':'China', 'population':2_400_000, 'fact':'East meets West'}\n",
    "         }\n",
    "\n",
    "for name, info in cities.items():\n",
    "    print(f\"{name}:\")    \n",
    "    for category, value in info.items():\n",
    "        print(f\"\\t{category}: {value}\")\n",
    "        "
   ]
  }
 ],
 "metadata": {
  "kernelspec": {
   "display_name": "Python 3.10.5 64-bit",
   "language": "python",
   "name": "python3"
  },
  "language_info": {
   "codemirror_mode": {
    "name": "ipython",
    "version": 3
   },
   "file_extension": ".py",
   "mimetype": "text/x-python",
   "name": "python",
   "nbconvert_exporter": "python",
   "pygments_lexer": "ipython3",
   "version": "3.10.5"
  },
  "orig_nbformat": 4,
  "vscode": {
   "interpreter": {
    "hash": "b38dfb95f3678c096fb3cc411a898db218249d388fd349ca2e07c16f343616cd"
   }
  }
 },
 "nbformat": 4,
 "nbformat_minor": 2
}
