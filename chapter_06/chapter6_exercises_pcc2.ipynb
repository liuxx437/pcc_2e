{
 "cells": [
  {
   "cell_type": "code",
   "execution_count": 8,
   "metadata": {},
   "outputs": [
    {
     "name": "stdout",
     "output_type": "stream",
     "text": [
      "Jack London is 40 years old and lives in Paris.\n"
     ]
    }
   ],
   "source": [
    "# Problem 6-1\n",
    "person = {'first_name': 'Jack', 'last_name': 'London', 'age':'40', 'city':'Paris' }\n",
    "print(f\"{person['first_name']} {person['last_name']} is {person['age']} years old and lives in {person['city']}.\")"
   ]
  },
  {
   "cell_type": "code",
   "execution_count": null,
   "metadata": {},
   "outputs": [],
   "source": [
    "# Problem 6-2\n",
    "person = {'Jack':'5', 'Emily': '6', 'Me':'19', 'Sophia':'7', 'Yan':'20'}\n",
    "print(f\"Jack: {person.get('Jack')} \\n\")\n",
    "print(f\"Emily: {person.get('Emily')} \\n\")\n",
    "print(f\"Me: {person.get('Me')} \\n\")\n",
    "print(f\"Sophia: {person.get('Sophia')} \\n\")\n",
    "print(f\"Yan: {person.get('Yan')} \\n\")"
   ]
  },
  {
   "cell_type": "code",
   "execution_count": 13,
   "metadata": {},
   "outputs": [
    {
     "name": "stdout",
     "output_type": "stream",
     "text": [
      "int: Interger data type \n",
      "for: Key work used in looping \n",
      "list: a data type used to store a series of items\n",
      "string: a data type used to store a sequence of characters\n",
      "print: function to print out information\n"
     ]
    }
   ],
   "source": [
    "# Problem 6-3\n",
    "person = {'int':'Interger data type', \n",
    "        'for': 'Key work used in looping', \n",
    "        'list':'a data type used to store a series of items', \n",
    "        'string':'a data type used to store a sequence of characters', \n",
    "        'print':'function to print out information'}\n",
    "print(f\"int: {person.get('int')} \")\n",
    "print(f\"for: {person.get('for')} \")\n",
    "print(f\"list: {person.get('list')}\")\n",
    "print(f\"string: {person.get('string')}\")\n",
    "print(f\"print: {person.get('print')}\")"
   ]
  }
 ],
 "metadata": {
  "kernelspec": {
   "display_name": "Python 3.10.5 64-bit",
   "language": "python",
   "name": "python3"
  },
  "language_info": {
   "codemirror_mode": {
    "name": "ipython",
    "version": 3
   },
   "file_extension": ".py",
   "mimetype": "text/x-python",
   "name": "python",
   "nbconvert_exporter": "python",
   "pygments_lexer": "ipython3",
   "version": "3.10.5"
  },
  "orig_nbformat": 4,
  "vscode": {
   "interpreter": {
    "hash": "b38dfb95f3678c096fb3cc411a898db218249d388fd349ca2e07c16f343616cd"
   }
  }
 },
 "nbformat": 4,
 "nbformat_minor": 2
}
