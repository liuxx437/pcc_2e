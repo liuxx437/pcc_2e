{
 "cells": [
  {
   "cell_type": "code",
   "execution_count": 10,
   "metadata": {},
   "outputs": [
    {
     "name": "stdout",
     "output_type": "stream",
     "text": [
      "Let me see if I can find you a Monkey\n"
     ]
    }
   ],
   "source": [
    "# problme 7-1\n",
    "car_info = input('What kind of car are you looking for?\\n')\n",
    "print(f\"Let me see if I can find you a {car_info}\")"
   ]
  },
  {
   "cell_type": "code",
   "execution_count": 9,
   "metadata": {},
   "outputs": [
    {
     "name": "stdout",
     "output_type": "stream",
     "text": [
      "Your table is ready. This way please\n"
     ]
    }
   ],
   "source": [
    "# problme 7-2\n",
    "group_size = int(input('How many people do you have?\\n'))\n",
    "if group_size > 8:\n",
    "    print(\"Sorry you have wait for a big table\")\n",
    "else:\n",
    "    print(\"Your table is ready. This way please\")"
   ]
  },
  {
   "cell_type": "code",
   "execution_count": 19,
   "metadata": {},
   "outputs": [
    {
     "name": "stdout",
     "output_type": "stream",
     "text": [
      "This number is a multiple of 10\n"
     ]
    }
   ],
   "source": [
    "# problme 7-3\n",
    "number = float(input('Please enter a number\\n'))\n",
    "if not number%10:\n",
    "    print(\"This number is a multiple of 10\")\n",
    "else:\n",
    "    print(\"This number is NOT a multiple of 10\")"
   ]
  },
  {
   "cell_type": "code",
   "execution_count": 20,
   "metadata": {},
   "outputs": [
    {
     "name": "stdout",
     "output_type": "stream",
     "text": [
      "pineapple added!\n",
      "italian suasage added!\n",
      "peporroni added!\n",
      "mashroom added!\n",
      "bell pepper added!\n",
      "life added!\n",
      "excel added!\n"
     ]
    }
   ],
   "source": [
    "# problem 7-4 \n",
    "\n",
    "while True:\n",
    "    pizza_topping = input('What kind of pizza topping do you want?\\n(Enter \"quit\" to exit)')\n",
    "    if pizza_topping.lower() == 'quit':\n",
    "        break\n",
    "    print(f\"{pizza_topping} added!\")"
   ]
  },
  {
   "cell_type": "code",
   "execution_count": 2,
   "metadata": {},
   "outputs": [
    {
     "name": "stdout",
     "output_type": "stream",
     "text": [
      "Age can't be negative!\n",
      "Your ticket is $15!\n"
     ]
    }
   ],
   "source": [
    "# problem 7-5\n",
    "\n",
    "prompt = 'How old are you?'\n",
    "prompt += \"\\n(Enter '999' to exit)\"\n",
    "while True:\n",
    "    age = int(input(prompt))\n",
    "    if age == 999:\n",
    "        break\n",
    "    elif age < 0:\n",
    "        print(\"Age can't be negative!\")\n",
    "    elif age>=0 and age < 3:\n",
    "        print(\"Your ticket is free!\")\n",
    "    elif age <= 12 and age >=3:\n",
    "        print(\"Your ticket is $10!\")\n",
    "    else:\n",
    "        print(\"Your ticket is $15!\")"
   ]
  },
  {
   "cell_type": "code",
   "execution_count": 33,
   "metadata": {},
   "outputs": [
    {
     "name": "stdout",
     "output_type": "stream",
     "text": [
      "I made your avocado sandwich!\n",
      "I made your veggie sandwich!\n",
      "I made your chicken sandwich!\n",
      "I made your roasted beef sandwich!\n",
      "I made your italian sandwich!\n",
      "I made your ham sandwich!\n",
      "I made your turkey sandwich!\n",
      "🥪🥪🥪🥪🥪🥪🥪🥪🥪🥪🥪👡👡🥪🥪🥪🥪🥪👡⏳🥪👡\n",
      "I made all the followings sandwiches:\n",
      "-avocado\n",
      "-veggie\n",
      "-chicken\n",
      "-roasted beef\n",
      "-italian\n",
      "-ham\n",
      "-turkey\n",
      ":)🍕🍕🍕🍕🍕🍕🍕🍕🍕🍕🍕🍕🍕🍕🍕🍕🍕🍕🍕🍕🍕🍕🍕🍕🍕🍕🍕🍕🍕🍕🍕🍕🍕🍕\n"
     ]
    }
   ],
   "source": [
    "# problem 7-8\n",
    "# order_open = True\n",
    "sandwich_orders = ['turkey', 'ham', 'italian', 'roasted beef', 'chicken', 'veggie', 'avocado']\n",
    "finished_sandwiches =[]\n",
    "while sandwich_orders:\n",
    "    current_order = sandwich_orders.pop()\n",
    "    print (\"I made your \" + current_order + \" sandwich!\")\n",
    "    finished_sandwiches.append(current_order)\n",
    "print('🥪🥪🥪🥪🥪🥪🥪🥪🥪🥪🥪👡👡🥪🥪🥪🥪🥪👡⏳🥪👡')\n",
    "print (\"I made all the followings sandwiches:\") \n",
    "for each_sandwich in finished_sandwiches:\n",
    "    print('-' + each_sandwich)\n",
    "print(':)🍕🍕🍕🍕🍕🍕🍕🍕🍕🍕🍕🍕🍕🍕🍕🍕🍕🍕🍕🍕🍕🍕🍕🍕🍕🍕🍕🍕🍕🍕🍕🍕🍕🍕')"
   ]
  },
  {
   "cell_type": "code",
   "execution_count": 35,
   "metadata": {},
   "outputs": [
    {
     "name": "stdout",
     "output_type": "stream",
     "text": [
      "All sandwiches ordered: ['turkey', 'ham', 'italian', 'pastrami', 'roasted beef', 'chicken', 'pastrami', 'veggie', 'avocado', 'pastrami']\n",
      "Working hard on your sandwiches...\n",
      "sorry we ran out pastrami🥶\n",
      "Canceling all pastrami sandwiches...\n",
      "I made your avocado sandwich!\n",
      "I made your veggie sandwich!\n",
      "I made your chicken sandwich!\n",
      "I made your roasted beef sandwich!\n",
      "I made your italian sandwich!\n",
      "I made your ham sandwich!\n",
      "I made your turkey sandwich!\n",
      "I made all the followings sandwiches:\n",
      "-avocado\n",
      "-veggie\n",
      "-chicken\n",
      "-roasted beef\n",
      "-italian\n",
      "-ham\n",
      "-turkey\n"
     ]
    }
   ],
   "source": [
    "# problem 7-9\n",
    "sandwich_orders = ['turkey', 'ham', 'italian', 'pastrami', 'roasted beef', 'chicken','pastrami', 'veggie', 'avocado', 'pastrami']\n",
    "finished_sandwiches =[]\n",
    "print(f\"All sandwiches ordered: {sandwich_orders}\")\n",
    "print(f\"Working hard on your sandwiches...\")\n",
    "print('sorry we ran out pastrami🥶')\n",
    "print(f\"Canceling all pastrami sandwiches...\")\n",
    "while 'pastrami' in sandwich_orders:\n",
    "    sandwich_orders.remove('pastrami')\n",
    "while sandwich_orders:\n",
    "    current_order = sandwich_orders.pop()\n",
    "    print (\"I made your \" + current_order + \" sandwich!\")\n",
    "    finished_sandwiches.append(current_order)\n",
    "\n",
    "print (\"I made all the followings sandwiches:\") \n",
    "for each_sandwich in finished_sandwiches:\n",
    "    print('-' + each_sandwich)\n"
   ]
  },
  {
   "cell_type": "code",
   "execution_count": 37,
   "metadata": {},
   "outputs": [
    {
     "name": "stdout",
     "output_type": "stream",
     "text": [
      "\n",
      "--- Poll Results ---\n",
      "Wanzhan would like to go Beijing.\n",
      "emily would like to go londa.\n",
      "Sophia would like to go Paris.\n"
     ]
    }
   ],
   "source": [
    "# Problem 7-10\n",
    "\n",
    "responses = {}\n",
    "\n",
    "# Set a flag to indicate that polling is active.\n",
    "polling_active = True\n",
    "\n",
    "while polling_active:\n",
    "    # Prompt for the person's name and response.\n",
    "    name = input(\"\\nWhat is your name? \")\n",
    "    response = input(\"If you could visit one place in the world, \\\n",
    "        where would you go?\")\n",
    "    \n",
    "    # Store the response in the dictionary.\n",
    "    responses[name] = response\n",
    "    \n",
    "    # Find out if anyone else is going to take the poll.\n",
    "    repeat = input(\"Would you like to let another person respond? (yes/ no) \")\n",
    "    if repeat == 'no':\n",
    "        polling_active = False\n",
    "        \n",
    "# Polling is complete. Show the results.\n",
    "print(\"\\n--- Poll Results ---\")\n",
    "for name, response in responses.items():\n",
    "    print(f\"{name} would like to go {response}.\")"
   ]
  }
 ],
 "metadata": {
  "kernelspec": {
   "display_name": "Python 3.10.5 64-bit",
   "language": "python",
   "name": "python3"
  },
  "language_info": {
   "codemirror_mode": {
    "name": "ipython",
    "version": 3
   },
   "file_extension": ".py",
   "mimetype": "text/x-python",
   "name": "python",
   "nbconvert_exporter": "python",
   "pygments_lexer": "ipython3",
   "version": "3.10.5"
  },
  "orig_nbformat": 4,
  "vscode": {
   "interpreter": {
    "hash": "b38dfb95f3678c096fb3cc411a898db218249d388fd349ca2e07c16f343616cd"
   }
  }
 },
 "nbformat": 4,
 "nbformat_minor": 2
}
