{
 "cells": [
  {
   "cell_type": "code",
   "execution_count": 2,
   "metadata": {},
   "outputs": [
    {
     "name": "stdout",
     "output_type": "stream",
     "text": [
      "I am learning how to write a python function in this chapter!\n"
     ]
    }
   ],
   "source": [
    "# problem 8-1\n",
    "def display_message():\n",
    "    print('I am learning how to write a python function in this chapter!')\n",
    "\n",
    "display_message()"
   ]
  },
  {
   "cell_type": "code",
   "execution_count": 3,
   "metadata": {},
   "outputs": [
    {
     "name": "stdout",
     "output_type": "stream",
     "text": [
      "One of my favorite books is How To Change Your Career\n"
     ]
    }
   ],
   "source": [
    "# problem 8-2\n",
    "def favorite_book(booktitle):\n",
    "    print(f\"One of my favorite books is {booktitle.title()}\")\n",
    "\n",
    "favorite_book('How to change your career')"
   ]
  },
  {
   "cell_type": "code",
   "execution_count": 1,
   "metadata": {},
   "outputs": [
    {
     "name": "stdout",
     "output_type": "stream",
     "text": [
      "The size is large and the message is 'I Love Python'\n",
      "The size is Medium and the message is 'I Love Python'\n",
      "The size is Small and the message is 'Love Changes Everything'\n",
      "The size is Huge and the message is 'Emily Loves Piano And Soccer'\n"
     ]
    }
   ],
   "source": [
    "# problem 8-4\n",
    "def make_shirt(size='large', message='I love Python'):\n",
    "    print(f\"The size is {size} and the message is '{message.title()}'\")\n",
    "\n",
    "make_shirt()\n",
    "make_shirt('Medium')\n",
    "make_shirt(message = 'Love changes everything',size= 'Small')\n",
    "make_shirt(message = 'Emily loves piano and soccer',size= 'Huge')"
   ]
  },
  {
   "cell_type": "code",
   "execution_count": 8,
   "metadata": {},
   "outputs": [
    {
     "name": "stdout",
     "output_type": "stream",
     "text": [
      "Beijing is in China\n",
      "Frisco is in Usa\n",
      "Paris is in France\n"
     ]
    }
   ],
   "source": [
    "# problem 8-5\n",
    "def describe_city(city, country='USA'):\n",
    "    print(f\"{city.title()} is in {country.title()}\")\n",
    "\n",
    "describe_city('Beijing', country='China')\n",
    "describe_city('Frisco')\n",
    "describe_city(country= 'France', city = 'Paris')"
   ]
  },
  {
   "cell_type": "code",
   "execution_count": null,
   "metadata": {},
   "outputs": [],
   "source": [
    "# problem 8-10\n",
    "def show_messages(messages):\n",
    "    for message in messages:\n",
    "        print (message)\n",
    "\n",
    "def send_messages(messages, sent_messages):\n",
    "    while messages:\n",
    "        current_message = messages.pop()\n",
    "        print (f'sending {current_message}...sent')\n",
    "        sent_messages.append(current_message)\n",
    "\n",
    "sent_messages = []\n",
    "messages =['Love is real', 'it\\'s not what happened, it\\'s what you do about it', 'Thank God it\\'s Friday']\n",
    "send_messages(messages, sent_messages)\n",
    "print('showing original messages---')\n",
    "show_messages(messages)\n",
    "print('showing moved messages---')\n",
    "show_messages(sent_messages)"
   ]
  }
 ],
 "metadata": {
  "kernelspec": {
   "display_name": "Python 3.10.5 64-bit",
   "language": "python",
   "name": "python3"
  },
  "language_info": {
   "codemirror_mode": {
    "name": "ipython",
    "version": 3
   },
   "file_extension": ".py",
   "mimetype": "text/x-python",
   "name": "python",
   "nbconvert_exporter": "python",
   "pygments_lexer": "ipython3",
   "version": "3.10.5"
  },
  "orig_nbformat": 4,
  "vscode": {
   "interpreter": {
    "hash": "b38dfb95f3678c096fb3cc411a898db218249d388fd349ca2e07c16f343616cd"
   }
  }
 },
 "nbformat": 4,
 "nbformat_minor": 2
}
