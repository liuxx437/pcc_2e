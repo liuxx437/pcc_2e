{
 "cells": [
  {
   "cell_type": "code",
   "execution_count": 1,
   "metadata": {},
   "outputs": [
    {
     "name": "stdout",
     "output_type": "stream",
     "text": [
      "Hot dog features fast food cuisine\n",
      "The name of the restaurant is Hot dog\n",
      "It features fast food cuisine\n",
      "Hot dog is open!\n"
     ]
    }
   ],
   "source": [
    "# Problem 9-1\n",
    "class Restaurant:\n",
    "\n",
    "    def __init__(self, restaurant_name, cuisine_type):\n",
    "        self.restaurant_name = restaurant_name\n",
    "        self.cuisine_type = cuisine_type\n",
    "    \n",
    "    def describe_restaurant(self):\n",
    "        print(f\"The name of the restaurant is {self.restaurant_name}\")\n",
    "        print(f\"It features {self.cuisine_type} cuisine\")\n",
    "    \n",
    "    def open_restaurant(self):\n",
    "        print(f\"{self.restaurant_name} is open!\")\n",
    "\n",
    "restaurant = Restaurant('Hot dog', \"fast food\")\n",
    "print(f\"{restaurant.restaurant_name} features {restaurant.cuisine_type} cuisine\")\n",
    "restaurant.describe_restaurant()\n",
    "restaurant.open_restaurant()"
   ]
  },
  {
   "cell_type": "code",
   "execution_count": 3,
   "metadata": {},
   "outputs": [
    {
     "name": "stdout",
     "output_type": "stream",
     "text": [
      "The name of the restaurant is Hot dog\n",
      "It features fast food cuisine\n",
      "The name of the restaurant is Silly Salad\n",
      "It features Veggie cuisine\n",
      "The name of the restaurant is Brown Sugar\n",
      "It features BBQ cuisine\n"
     ]
    }
   ],
   "source": [
    "#problem 9-2\n",
    "class Restaurant:\n",
    "\n",
    "    def __init__(self, restaurant_name, cuisine_type):\n",
    "        self.restaurant_name = restaurant_name\n",
    "        self.cuisine_type = cuisine_type\n",
    "    \n",
    "    def describe_restaurant(self):\n",
    "        print(f\"The name of the restaurant is {self.restaurant_name}\")\n",
    "        print(f\"It features {self.cuisine_type} cuisine\")\n",
    "    \n",
    "    def open_restaurant(self):\n",
    "        print(f\"{self.restaurant_name} is open!\")\n",
    "\n",
    "restaurant1 = Restaurant('Hot dog', \"fast food\")\n",
    "restaurant2 = Restaurant('Silly Salad', \"Veggie\")\n",
    "restaurant3 = Restaurant('Brown Sugar', \"BBQ\")\n",
    "restaurant1.describe_restaurant()\n",
    "restaurant2.describe_restaurant()\n",
    "restaurant3.describe_restaurant()\n"
   ]
  },
  {
   "cell_type": "code",
   "execution_count": 6,
   "metadata": {},
   "outputs": [
    {
     "name": "stdout",
     "output_type": "stream",
     "text": [
      "Name:Mike Smith \n",
      " age:45 \n",
      " gender: Male\n",
      " occupation:scientist\n",
      "Welcome to the jungle Mike Smith!\n",
      "Name:Sara Kelly \n",
      " age:32 \n",
      " gender: Female\n",
      " occupation:manager\n",
      "Welcome to the jungle Sara Kelly!\n",
      "Name:Ben Collins \n",
      " age:15 \n",
      " gender: Male\n",
      " occupation:student\n",
      "Welcome to the jungle Ben Collins!\n"
     ]
    }
   ],
   "source": [
    "# Problem 9-3\n",
    "class User:\n",
    "\n",
    "    def __init__(self, first_name, last_name, age, gender, occupation):\n",
    "        self.first_name = first_name\n",
    "        self.last_name = last_name\n",
    "        self.age = age\n",
    "        self.gender = gender\n",
    "        self.occupation = occupation\n",
    "    \n",
    "    def describe_user(self):\n",
    "        print(f\"Name:{self.first_name} {self.last_name} \\n age:{self.age} \\n gender: {self.gender}\\n occupation:{self.occupation}\")\n",
    "        \n",
    "    def greet_user(self):\n",
    "        print(f\"Welcome to the jungle {self.first_name} {self.last_name}!\")\n",
    "\n",
    "user1 = User('Mike', \"Smith\", 45, 'Male', 'scientist')\n",
    "user2 = User('Sara', \"Kelly\", 32, 'Female', 'manager')\n",
    "user3 = User('Ben', \"Collins\", 15, 'Male', 'student')\n",
    "user1.describe_user()\n",
    "user1.greet_user()\n",
    "user2.describe_user()\n",
    "user2.greet_user()\n",
    "user3.describe_user()\n",
    "user3.greet_user()\n",
    "\n"
   ]
  },
  {
   "cell_type": "code",
   "execution_count": 8,
   "metadata": {},
   "outputs": [
    {
     "name": "stdout",
     "output_type": "stream",
     "text": [
      "Hot dog served 0 customers!\n",
      "After 3 days, Hot dog served 105 customers!\n",
      "After another day, Hot dog served 205 customers!\n"
     ]
    }
   ],
   "source": [
    "# Problem 9-4\n",
    "class Restaurant:\n",
    "\n",
    "    def __init__(self, restaurant_name, cuisine_type):\n",
    "        self.restaurant_name = restaurant_name\n",
    "        self.cuisine_type = cuisine_type\n",
    "        self.number_served = 0\n",
    "    \n",
    "    def describe_restaurant(self):\n",
    "        print(f\"The name of the restaurant is {self.restaurant_name}\")\n",
    "        print(f\"It features {self.cuisine_type} cuisine\")\n",
    "    \n",
    "    def open_restaurant(self):\n",
    "        print(f\"{self.restaurant_name} is open!\")\n",
    "\n",
    "    def set_number_served(self, number_served):\n",
    "        self.number_served = number_served\n",
    "\n",
    "    def increment_number_served(self, increment_number_served):\n",
    "        self.number_served += increment_number_served\n",
    "\n",
    "\n",
    "restaurant = Restaurant('Hot dog', \"fast food\")\n",
    "print(f\"{restaurant.restaurant_name} served {restaurant.number_served} customers!\")\n",
    "restaurant.set_number_served (105)\n",
    "print(f\"After 3 days, {restaurant.restaurant_name} served {restaurant.number_served} customers!\")\n",
    "restaurant.increment_number_served (100)\n",
    "print(f\"After another day, {restaurant.restaurant_name} served {restaurant.number_served} customers!\")\n"
   ]
  },
  {
   "cell_type": "code",
   "execution_count": 10,
   "metadata": {},
   "outputs": [
    {
     "name": "stdout",
     "output_type": "stream",
     "text": [
      "Login attempted 0 times\n",
      "Login attempted 1 times\n",
      "Login attempted 2 times\n",
      "Login attempted 3 times\n",
      "After reset, login attempted 0 times\n"
     ]
    }
   ],
   "source": [
    "# Problem 9-5\n",
    "class User:\n",
    "\n",
    "    def __init__(self, first_name, last_name, age, gender, occupation):\n",
    "        self.first_name = first_name\n",
    "        self.last_name = last_name\n",
    "        self.age = age\n",
    "        self.gender = gender\n",
    "        self.occupation = occupation\n",
    "        self.login_attempts = 0\n",
    "    \n",
    "    def describe_user(self):\n",
    "        print(f\"Name:{self.first_name} {self.last_name} \\n age:{self.age} \\n gender: {self.gender}\\n occupation:{self.occupation}\")\n",
    "        \n",
    "    def greet_user(self):\n",
    "        print(f\"Welcome to the jungle {self.first_name} {self.last_name}!\")\n",
    "\n",
    "    def increment_login_attempts(self):\n",
    "        self.login_attempts += 1\n",
    "\n",
    "    def reset_login_attempts(self):\n",
    "        self.login_attempts = 0\n",
    "\n",
    "user1 = User('Mike', \"Smith\", 45, 'Male', 'scientist')\n",
    "print(f\"Login attempted {user1.login_attempts} times\")\n",
    "user1.increment_login_attempts()\n",
    "print(f\"Login attempted {user1.login_attempts} times\")\n",
    "user1.increment_login_attempts()\n",
    "print(f\"Login attempted {user1.login_attempts} times\")\n",
    "user1.increment_login_attempts()\n",
    "print(f\"Login attempted {user1.login_attempts} times\")\n",
    "\n",
    "user1.reset_login_attempts()\n",
    "print(f\"After reset, login attempted {user1.login_attempts} times\")\n",
    "\n"
   ]
  },
  {
   "cell_type": "code",
   "execution_count": null,
   "metadata": {},
   "outputs": [],
   "source": [
    "# Problem 9-6\n",
    "class Restaurant:\n",
    "\n",
    "    def __init__(self, restaurant_name, cuisine_type):\n",
    "        self.restaurant_name = restaurant_name\n",
    "        self.cuisine_type = cuisine_type\n",
    "        self.number_served = 0\n",
    "    \n",
    "    def describe_restaurant(self):\n",
    "        print(f\"The name of the restaurant is {self.restaurant_name}\")\n",
    "        print(f\"It features {self.cuisine_type} cuisine\")\n",
    "    \n",
    "    def open_restaurant(self):\n",
    "        print(f\"{self.restaurant_name} is open!\")\n",
    "\n",
    "    def set_number_served(self, number_served):\n",
    "        self.number_served = number_served\n",
    "\n",
    "    def increment_number_served(self, increment_number_served):\n",
    "        self.number_served += increment_number_served\n",
    "\n",
    "class IceCreamStand(Restaurant):\n",
    "\n",
    "    def __init__(self, restaurant_name, cuisine_type, flavors=['vanilla']):\n",
    "        super().__init__(restaurant_name, cuisine_type)\n",
    "        self.flavors = flavors\n",
    "\n",
    "    def flavors_available(self):\n",
    "        print(f\"We have these flavors: {self.flavors}\")\n",
    "\n",
    "\n",
    "iceCreamStand = IceCreamStand('Icy', \"sweeties\", ['strawberry', 'chocolate chips', 'butter pecan'])\n",
    "iceCreamStand.flavors_available()\n"
   ]
  }
 ],
 "metadata": {
  "kernelspec": {
   "display_name": "Python 3.10.5 64-bit",
   "language": "python",
   "name": "python3"
  },
  "language_info": {
   "codemirror_mode": {
    "name": "ipython",
    "version": 3
   },
   "file_extension": ".py",
   "mimetype": "text/x-python",
   "name": "python",
   "nbconvert_exporter": "python",
   "pygments_lexer": "ipython3",
   "version": "3.10.5"
  },
  "orig_nbformat": 4,
  "vscode": {
   "interpreter": {
    "hash": "e2c1bf3ec5855dccda85c8d513cc1affa0932ea49d726bff0f3fd7aa95c8621b"
   }
  }
 },
 "nbformat": 4,
 "nbformat_minor": 2
}
